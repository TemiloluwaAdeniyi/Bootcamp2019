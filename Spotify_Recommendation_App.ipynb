{
  "nbformat": 4,
  "nbformat_minor": 0,
  "metadata": {
    "colab": {
      "name": "Spotify_Recommendation_App.ipynb",
      "provenance": [],
      "toc_visible": true,
      "authorship_tag": "ABX9TyOLtSy2rkPl0uXiuWS8WEh/",
      "include_colab_link": true
    },
    "kernelspec": {
      "name": "python3",
      "display_name": "Python 3"
    }
  },
  "cells": [
    {
      "cell_type": "markdown",
      "metadata": {
        "id": "view-in-github",
        "colab_type": "text"
      },
      "source": [
        "<a href=\"https://colab.research.google.com/github/TemiloluwaAdeniyi/Bootcamp2019/blob/master/Spotify_Recommendation_App.ipynb\" target=\"_parent\"><img src=\"https://colab.research.google.com/assets/colab-badge.svg\" alt=\"Open In Colab\"/></a>"
      ]
    },
    {
      "cell_type": "markdown",
      "metadata": {
        "id": "X4g1XaKf-4eP"
      },
      "source": [
        "# **Importing Neccesary Libraries**"
      ]
    },
    {
      "cell_type": "code",
      "metadata": {
        "id": "CwV5VVDCnWSX",
        "outputId": "c1d5d449-c90e-4472-b102-097c4af051f6",
        "colab": {
          "base_uri": "https://localhost:8080/",
          "height": 108
        }
      },
      "source": [
        "#Import Libraries\n",
        "import pandas as pd\n",
        "import numpy as np\n",
        "import matplotlib\n",
        "import matplotlib.pyplot as plt\n",
        "import seaborn as sns\n",
        "import statsmodels.api as sm\n",
        "%matplotlib inline\n",
        "from sklearn.model_selection import train_test_split\n",
        "from sklearn.linear_model import LinearRegression\n",
        "from sklearn.feature_selection import RFE\n",
        "from sklearn.linear_model import RidgeCV, LassoCV, Ridge, Lasso\n",
        "from sklearn.ensemble import RandomForestClassifier\n",
        "!pip install boruta\n",
        "from boruta import BorutaPy\n",
        "from sklearn import metrics\n",
        "from sklearn.ensemble import ExtraTreesClassifier\n",
        "from sklearn.linear_model import LogisticRegression\n",
        "from pandas import read_csv\n",
        "from numpy import set_printoptions\n",
        "from sklearn.feature_selection import SelectKBest\n",
        "from sklearn.feature_selection import f_classif\n",
        "from sklearn.neighbors import KNeighborsClassifier\n",
        "from sklearn.model_selection import cross_val_score\n",
        "from sklearn.metrics import confusion_matrix\n",
        "from sklearn.feature_selection import SelectKBest\n",
        "from sklearn.feature_selection import chi2"
      ],
      "execution_count": 44,
      "outputs": [
        {
          "output_type": "stream",
          "text": [
            "Requirement already satisfied: boruta in /usr/local/lib/python3.6/dist-packages (0.3)\n",
            "Requirement already satisfied: scipy>=0.17.0 in /usr/local/lib/python3.6/dist-packages (from boruta) (1.4.1)\n",
            "Requirement already satisfied: scikit-learn>=0.17.1 in /usr/local/lib/python3.6/dist-packages (from boruta) (0.22.2.post1)\n",
            "Requirement already satisfied: numpy>=1.10.4 in /usr/local/lib/python3.6/dist-packages (from boruta) (1.18.5)\n",
            "Requirement already satisfied: joblib>=0.11 in /usr/local/lib/python3.6/dist-packages (from scikit-learn>=0.17.1->boruta) (0.16.0)\n"
          ],
          "name": "stdout"
        }
      ]
    },
    {
      "cell_type": "code",
      "metadata": {
        "id": "mtC-pMGM-Nv5"
      },
      "source": [
        "## I ran this initial code in Google Colab, so I use the data import commands for Google Colab here and imported a data set from\n",
        "## Kaggle Spotify repository with songs from 1921 - 2020. The data can also be pulled directly from Spotify with the API. I'm going to also\n",
        "## put those commands here for future reference.\n",
        "### Set up query\n",
        "#sp = spotipy.Spotify(\n",
        "#            client_credentials_manager=SpotifyClientCredentials(\n",
        "#            client_id=client_id,\n",
        "#            client_secret=client_secret))"
      ],
      "execution_count": null,
      "outputs": []
    },
    {
      "cell_type": "markdown",
      "metadata": {
        "id": "3Sv1huYx_Bou"
      },
      "source": [
        "# **Loading Data**"
      ]
    },
    {
      "cell_type": "code",
      "metadata": {
        "id": "D0edq8bgU2y_",
        "outputId": "100e07d8-85c9-48d5-fafc-56b816e5b2d0",
        "colab": {
          "resources": {
            "http://localhost:8080/nbextensions/google.colab/files.js": {
              "data": "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",
              "ok": true,
              "headers": [
                [
                  "content-type",
                  "application/javascript"
                ]
              ],
              "status": 200,
              "status_text": ""
            }
          },
          "base_uri": "https://localhost:8080/",
          "height": 73
        }
      },
      "source": [
        "#Load CSV File of Spotify Data into Google Colab Environment\n",
        "from google.colab import files\n",
        "x = files.upload()"
      ],
      "execution_count": 2,
      "outputs": [
        {
          "output_type": "display_data",
          "data": {
            "text/html": [
              "\n",
              "     <input type=\"file\" id=\"files-48c1314f-ccd9-43c3-95b1-69d080f46b75\" name=\"files[]\" multiple disabled\n",
              "        style=\"border:none\" />\n",
              "     <output id=\"result-48c1314f-ccd9-43c3-95b1-69d080f46b75\">\n",
              "      Upload widget is only available when the cell has been executed in the\n",
              "      current browser session. Please rerun this cell to enable.\n",
              "      </output>\n",
              "      <script src=\"/nbextensions/google.colab/files.js\"></script> "
            ],
            "text/plain": [
              "<IPython.core.display.HTML object>"
            ]
          },
          "metadata": {
            "tags": []
          }
        },
        {
          "output_type": "stream",
          "text": [
            "Saving data_w_genres.csv to data_w_genres.csv\n"
          ],
          "name": "stdout"
        }
      ]
    },
    {
      "cell_type": "code",
      "metadata": {
        "id": "KoZqQwiHHJnY"
      },
      "source": [
        "#Store Data into Dataframe\n",
        "df = pd.read_csv('data_w_genres.csv')"
      ],
      "execution_count": 61,
      "outputs": []
    },
    {
      "cell_type": "markdown",
      "metadata": {
        "id": "VjYUaEKY_KV4"
      },
      "source": [
        "# **Prepping/Cleaning Data**"
      ]
    },
    {
      "cell_type": "code",
      "metadata": {
        "id": "hFsRXXAZmA0Q",
        "outputId": "f789e6b9-8d3e-4ac9-8f45-2d031cf67041",
        "colab": {
          "base_uri": "https://localhost:8080/",
          "height": 477
        }
      },
      "source": [
        "df.head()"
      ],
      "execution_count": 62,
      "outputs": [
        {
          "output_type": "execute_result",
          "data": {
            "text/html": [
              "<div>\n",
              "<style scoped>\n",
              "    .dataframe tbody tr th:only-of-type {\n",
              "        vertical-align: middle;\n",
              "    }\n",
              "\n",
              "    .dataframe tbody tr th {\n",
              "        vertical-align: top;\n",
              "    }\n",
              "\n",
              "    .dataframe thead th {\n",
              "        text-align: right;\n",
              "    }\n",
              "</style>\n",
              "<table border=\"1\" class=\"dataframe\">\n",
              "  <thead>\n",
              "    <tr style=\"text-align: right;\">\n",
              "      <th></th>\n",
              "      <th>artists</th>\n",
              "      <th>acousticness</th>\n",
              "      <th>danceability</th>\n",
              "      <th>duration_ms</th>\n",
              "      <th>energy</th>\n",
              "      <th>instrumentalness</th>\n",
              "      <th>liveness</th>\n",
              "      <th>loudness</th>\n",
              "      <th>speechiness</th>\n",
              "      <th>tempo</th>\n",
              "      <th>valence</th>\n",
              "      <th>popularity</th>\n",
              "      <th>key</th>\n",
              "      <th>mode</th>\n",
              "      <th>count</th>\n",
              "      <th>genres</th>\n",
              "    </tr>\n",
              "  </thead>\n",
              "  <tbody>\n",
              "    <tr>\n",
              "      <th>0</th>\n",
              "      <td>\"Cats\" 1981 Original London Cast</td>\n",
              "      <td>0.575083</td>\n",
              "      <td>0.442750</td>\n",
              "      <td>247260.000000</td>\n",
              "      <td>0.386336</td>\n",
              "      <td>0.022717</td>\n",
              "      <td>0.287708</td>\n",
              "      <td>-14.205417</td>\n",
              "      <td>0.180675</td>\n",
              "      <td>115.983500</td>\n",
              "      <td>0.334433</td>\n",
              "      <td>38.000000</td>\n",
              "      <td>5</td>\n",
              "      <td>1</td>\n",
              "      <td>12</td>\n",
              "      <td>['show tunes']</td>\n",
              "    </tr>\n",
              "    <tr>\n",
              "      <th>1</th>\n",
              "      <td>\"Cats\" 1983 Broadway Cast</td>\n",
              "      <td>0.862538</td>\n",
              "      <td>0.441731</td>\n",
              "      <td>287280.000000</td>\n",
              "      <td>0.406808</td>\n",
              "      <td>0.081158</td>\n",
              "      <td>0.315215</td>\n",
              "      <td>-10.690000</td>\n",
              "      <td>0.176212</td>\n",
              "      <td>103.044154</td>\n",
              "      <td>0.268865</td>\n",
              "      <td>33.076923</td>\n",
              "      <td>5</td>\n",
              "      <td>1</td>\n",
              "      <td>26</td>\n",
              "      <td>[]</td>\n",
              "    </tr>\n",
              "    <tr>\n",
              "      <th>2</th>\n",
              "      <td>\"Fiddler On The Roof” Motion Picture Chorus</td>\n",
              "      <td>0.856571</td>\n",
              "      <td>0.348286</td>\n",
              "      <td>328920.000000</td>\n",
              "      <td>0.286571</td>\n",
              "      <td>0.024593</td>\n",
              "      <td>0.325786</td>\n",
              "      <td>-15.230714</td>\n",
              "      <td>0.118514</td>\n",
              "      <td>77.375857</td>\n",
              "      <td>0.354857</td>\n",
              "      <td>34.285714</td>\n",
              "      <td>0</td>\n",
              "      <td>1</td>\n",
              "      <td>7</td>\n",
              "      <td>[]</td>\n",
              "    </tr>\n",
              "    <tr>\n",
              "      <th>3</th>\n",
              "      <td>\"Fiddler On The Roof” Motion Picture Orchestra</td>\n",
              "      <td>0.884926</td>\n",
              "      <td>0.425074</td>\n",
              "      <td>262890.962963</td>\n",
              "      <td>0.245770</td>\n",
              "      <td>0.073587</td>\n",
              "      <td>0.275481</td>\n",
              "      <td>-15.639370</td>\n",
              "      <td>0.123200</td>\n",
              "      <td>88.667630</td>\n",
              "      <td>0.372030</td>\n",
              "      <td>34.444444</td>\n",
              "      <td>0</td>\n",
              "      <td>1</td>\n",
              "      <td>27</td>\n",
              "      <td>[]</td>\n",
              "    </tr>\n",
              "    <tr>\n",
              "      <th>4</th>\n",
              "      <td>\"Joseph And The Amazing Technicolor Dreamcoat\"...</td>\n",
              "      <td>0.605444</td>\n",
              "      <td>0.437333</td>\n",
              "      <td>232428.111111</td>\n",
              "      <td>0.429333</td>\n",
              "      <td>0.037534</td>\n",
              "      <td>0.216111</td>\n",
              "      <td>-11.447222</td>\n",
              "      <td>0.086000</td>\n",
              "      <td>120.329667</td>\n",
              "      <td>0.458667</td>\n",
              "      <td>42.555556</td>\n",
              "      <td>11</td>\n",
              "      <td>1</td>\n",
              "      <td>9</td>\n",
              "      <td>[]</td>\n",
              "    </tr>\n",
              "  </tbody>\n",
              "</table>\n",
              "</div>"
            ],
            "text/plain": [
              "                                             artists  ...          genres\n",
              "0                   \"Cats\" 1981 Original London Cast  ...  ['show tunes']\n",
              "1                          \"Cats\" 1983 Broadway Cast  ...              []\n",
              "2        \"Fiddler On The Roof” Motion Picture Chorus  ...              []\n",
              "3     \"Fiddler On The Roof” Motion Picture Orchestra  ...              []\n",
              "4  \"Joseph And The Amazing Technicolor Dreamcoat\"...  ...              []\n",
              "\n",
              "[5 rows x 16 columns]"
            ]
          },
          "metadata": {
            "tags": []
          },
          "execution_count": 62
        }
      ]
    },
    {
      "cell_type": "code",
      "metadata": {
        "id": "386gMZRXxgnO",
        "outputId": "0d15e36a-d202-4a4c-d7a1-045bfe1b5fb9",
        "colab": {
          "base_uri": "https://localhost:8080/",
          "height": 308
        }
      },
      "source": [
        "#List column names\n",
        "#'genres' is the target feature\n",
        "list(df.columns.values)"
      ],
      "execution_count": 63,
      "outputs": [
        {
          "output_type": "execute_result",
          "data": {
            "text/plain": [
              "['artists',\n",
              " 'acousticness',\n",
              " 'danceability',\n",
              " 'duration_ms',\n",
              " 'energy',\n",
              " 'instrumentalness',\n",
              " 'liveness',\n",
              " 'loudness',\n",
              " 'speechiness',\n",
              " 'tempo',\n",
              " 'valence',\n",
              " 'popularity',\n",
              " 'key',\n",
              " 'mode',\n",
              " 'count',\n",
              " 'genres']"
            ]
          },
          "metadata": {
            "tags": []
          },
          "execution_count": 63
        }
      ]
    },
    {
      "cell_type": "code",
      "metadata": {
        "id": "cm4Hi3whMnW_",
        "outputId": "ca0e55eb-7f56-4d04-98cb-e08ccb0da131",
        "colab": {
          "base_uri": "https://localhost:8080/",
          "height": 35
        }
      },
      "source": [
        "#Check Size of Data (rows x columns) before cleaning\n",
        "df.shape"
      ],
      "execution_count": 64,
      "outputs": [
        {
          "output_type": "execute_result",
          "data": {
            "text/plain": [
              "(27621, 16)"
            ]
          },
          "metadata": {
            "tags": []
          },
          "execution_count": 64
        }
      ]
    },
    {
      "cell_type": "code",
      "metadata": {
        "id": "eDciu9Oxku9c"
      },
      "source": [
        "#Drop Duplicate Song Entries\n",
        "df = df.drop_duplicates()"
      ],
      "execution_count": 65,
      "outputs": []
    },
    {
      "cell_type": "code",
      "metadata": {
        "id": "fSIjnqO4yB0C"
      },
      "source": [
        "#Drop Song Entries if Genre is Missing\n",
        "df = df[df.astype(str)['genres'] != '[]']"
      ],
      "execution_count": 66,
      "outputs": []
    },
    {
      "cell_type": "code",
      "metadata": {
        "id": "AkJO0sKc2XLx",
        "outputId": "00ccbed0-5920-404e-e05b-e06c0cb6d4bc",
        "colab": {
          "base_uri": "https://localhost:8080/",
          "height": 1000
        }
      },
      "source": [
        "df"
      ],
      "execution_count": 67,
      "outputs": [
        {
          "output_type": "execute_result",
          "data": {
            "text/html": [
              "<div>\n",
              "<style scoped>\n",
              "    .dataframe tbody tr th:only-of-type {\n",
              "        vertical-align: middle;\n",
              "    }\n",
              "\n",
              "    .dataframe tbody tr th {\n",
              "        vertical-align: top;\n",
              "    }\n",
              "\n",
              "    .dataframe thead th {\n",
              "        text-align: right;\n",
              "    }\n",
              "</style>\n",
              "<table border=\"1\" class=\"dataframe\">\n",
              "  <thead>\n",
              "    <tr style=\"text-align: right;\">\n",
              "      <th></th>\n",
              "      <th>artists</th>\n",
              "      <th>acousticness</th>\n",
              "      <th>danceability</th>\n",
              "      <th>duration_ms</th>\n",
              "      <th>energy</th>\n",
              "      <th>instrumentalness</th>\n",
              "      <th>liveness</th>\n",
              "      <th>loudness</th>\n",
              "      <th>speechiness</th>\n",
              "      <th>tempo</th>\n",
              "      <th>valence</th>\n",
              "      <th>popularity</th>\n",
              "      <th>key</th>\n",
              "      <th>mode</th>\n",
              "      <th>count</th>\n",
              "      <th>genres</th>\n",
              "    </tr>\n",
              "  </thead>\n",
              "  <tbody>\n",
              "    <tr>\n",
              "      <th>0</th>\n",
              "      <td>\"Cats\" 1981 Original London Cast</td>\n",
              "      <td>0.575083</td>\n",
              "      <td>0.442750</td>\n",
              "      <td>247260.000000</td>\n",
              "      <td>0.386336</td>\n",
              "      <td>0.022717</td>\n",
              "      <td>0.287708</td>\n",
              "      <td>-14.205417</td>\n",
              "      <td>0.180675</td>\n",
              "      <td>115.983500</td>\n",
              "      <td>0.334433</td>\n",
              "      <td>38.000000</td>\n",
              "      <td>5</td>\n",
              "      <td>1</td>\n",
              "      <td>12</td>\n",
              "      <td>['show tunes']</td>\n",
              "    </tr>\n",
              "    <tr>\n",
              "      <th>9</th>\n",
              "      <td>\"Weird Al\" Yankovic</td>\n",
              "      <td>0.176934</td>\n",
              "      <td>0.664788</td>\n",
              "      <td>218165.257576</td>\n",
              "      <td>0.685136</td>\n",
              "      <td>0.000046</td>\n",
              "      <td>0.162139</td>\n",
              "      <td>-9.877909</td>\n",
              "      <td>0.082392</td>\n",
              "      <td>132.495091</td>\n",
              "      <td>0.754409</td>\n",
              "      <td>33.681818</td>\n",
              "      <td>9</td>\n",
              "      <td>1</td>\n",
              "      <td>132</td>\n",
              "      <td>['antiviral pop', 'comedy rock', 'comic', 'par...</td>\n",
              "    </tr>\n",
              "    <tr>\n",
              "      <th>11</th>\n",
              "      <td>$NOT</td>\n",
              "      <td>0.547000</td>\n",
              "      <td>0.750125</td>\n",
              "      <td>152929.500000</td>\n",
              "      <td>0.519750</td>\n",
              "      <td>0.043137</td>\n",
              "      <td>0.213975</td>\n",
              "      <td>-8.878500</td>\n",
              "      <td>0.276725</td>\n",
              "      <td>114.229125</td>\n",
              "      <td>0.319500</td>\n",
              "      <td>64.625000</td>\n",
              "      <td>6</td>\n",
              "      <td>1</td>\n",
              "      <td>8</td>\n",
              "      <td>['east coast hip hop', 'gangster rap', 'hardco...</td>\n",
              "    </tr>\n",
              "    <tr>\n",
              "      <th>13</th>\n",
              "      <td>$uicideBoy$</td>\n",
              "      <td>0.128123</td>\n",
              "      <td>0.765246</td>\n",
              "      <td>147549.442623</td>\n",
              "      <td>0.641705</td>\n",
              "      <td>0.038454</td>\n",
              "      <td>0.201195</td>\n",
              "      <td>-6.626918</td>\n",
              "      <td>0.155917</td>\n",
              "      <td>119.804361</td>\n",
              "      <td>0.296096</td>\n",
              "      <td>61.647541</td>\n",
              "      <td>1</td>\n",
              "      <td>1</td>\n",
              "      <td>122</td>\n",
              "      <td>['dark trap', 'new orleans rap', 'underground ...</td>\n",
              "    </tr>\n",
              "    <tr>\n",
              "      <th>15</th>\n",
              "      <td>'In The Heights' Original Broadway Company</td>\n",
              "      <td>0.636588</td>\n",
              "      <td>0.541000</td>\n",
              "      <td>301908.294118</td>\n",
              "      <td>0.402282</td>\n",
              "      <td>0.000008</td>\n",
              "      <td>0.193824</td>\n",
              "      <td>-9.405882</td>\n",
              "      <td>0.150006</td>\n",
              "      <td>114.952529</td>\n",
              "      <td>0.407765</td>\n",
              "      <td>46.588235</td>\n",
              "      <td>7</td>\n",
              "      <td>1</td>\n",
              "      <td>17</td>\n",
              "      <td>['broadway', 'show tunes']</td>\n",
              "    </tr>\n",
              "    <tr>\n",
              "      <th>...</th>\n",
              "      <td>...</td>\n",
              "      <td>...</td>\n",
              "      <td>...</td>\n",
              "      <td>...</td>\n",
              "      <td>...</td>\n",
              "      <td>...</td>\n",
              "      <td>...</td>\n",
              "      <td>...</td>\n",
              "      <td>...</td>\n",
              "      <td>...</td>\n",
              "      <td>...</td>\n",
              "      <td>...</td>\n",
              "      <td>...</td>\n",
              "      <td>...</td>\n",
              "      <td>...</td>\n",
              "      <td>...</td>\n",
              "    </tr>\n",
              "    <tr>\n",
              "      <th>27611</th>\n",
              "      <td>陳秀男</td>\n",
              "      <td>0.473500</td>\n",
              "      <td>0.553500</td>\n",
              "      <td>263286.500000</td>\n",
              "      <td>0.609000</td>\n",
              "      <td>0.000392</td>\n",
              "      <td>0.229000</td>\n",
              "      <td>-9.361000</td>\n",
              "      <td>0.035300</td>\n",
              "      <td>98.847500</td>\n",
              "      <td>0.535500</td>\n",
              "      <td>44.000000</td>\n",
              "      <td>7</td>\n",
              "      <td>1</td>\n",
              "      <td>2</td>\n",
              "      <td>['taiwan campus folk']</td>\n",
              "    </tr>\n",
              "    <tr>\n",
              "      <th>27612</th>\n",
              "      <td>陳蘭麗</td>\n",
              "      <td>0.502000</td>\n",
              "      <td>0.609000</td>\n",
              "      <td>152883.000000</td>\n",
              "      <td>0.833000</td>\n",
              "      <td>0.000000</td>\n",
              "      <td>0.134000</td>\n",
              "      <td>-6.261000</td>\n",
              "      <td>0.215000</td>\n",
              "      <td>154.596000</td>\n",
              "      <td>0.718000</td>\n",
              "      <td>34.000000</td>\n",
              "      <td>0</td>\n",
              "      <td>1</td>\n",
              "      <td>2</td>\n",
              "      <td>['taiwan campus folk']</td>\n",
              "    </tr>\n",
              "    <tr>\n",
              "      <th>27616</th>\n",
              "      <td>鳳飛飛</td>\n",
              "      <td>0.884000</td>\n",
              "      <td>0.358000</td>\n",
              "      <td>259387.000000</td>\n",
              "      <td>0.208000</td>\n",
              "      <td>0.000002</td>\n",
              "      <td>0.150000</td>\n",
              "      <td>-9.524000</td>\n",
              "      <td>0.033900</td>\n",
              "      <td>131.261000</td>\n",
              "      <td>0.278000</td>\n",
              "      <td>35.000000</td>\n",
              "      <td>10</td>\n",
              "      <td>1</td>\n",
              "      <td>2</td>\n",
              "      <td>['c-pop', 'classic mandopop', 'vintage chinese...</td>\n",
              "    </tr>\n",
              "    <tr>\n",
              "      <th>27617</th>\n",
              "      <td>黃品源</td>\n",
              "      <td>0.541000</td>\n",
              "      <td>0.578000</td>\n",
              "      <td>293840.000000</td>\n",
              "      <td>0.334000</td>\n",
              "      <td>0.000006</td>\n",
              "      <td>0.067500</td>\n",
              "      <td>-11.974000</td>\n",
              "      <td>0.026700</td>\n",
              "      <td>135.934000</td>\n",
              "      <td>0.243000</td>\n",
              "      <td>47.000000</td>\n",
              "      <td>9</td>\n",
              "      <td>0</td>\n",
              "      <td>2</td>\n",
              "      <td>['c-pop', 'classic cantopop', 'classic mandopop']</td>\n",
              "    </tr>\n",
              "    <tr>\n",
              "      <th>27620</th>\n",
              "      <td>黑豹</td>\n",
              "      <td>0.381000</td>\n",
              "      <td>0.353000</td>\n",
              "      <td>316160.000000</td>\n",
              "      <td>0.686000</td>\n",
              "      <td>0.000000</td>\n",
              "      <td>0.056800</td>\n",
              "      <td>-9.103000</td>\n",
              "      <td>0.039500</td>\n",
              "      <td>200.341000</td>\n",
              "      <td>0.352000</td>\n",
              "      <td>34.000000</td>\n",
              "      <td>11</td>\n",
              "      <td>1</td>\n",
              "      <td>2</td>\n",
              "      <td>['chinese indie', 'chinese indie rock']</td>\n",
              "    </tr>\n",
              "  </tbody>\n",
              "</table>\n",
              "<p>18091 rows × 16 columns</p>\n",
              "</div>"
            ],
            "text/plain": [
              "                                          artists  ...                                             genres\n",
              "0                \"Cats\" 1981 Original London Cast  ...                                     ['show tunes']\n",
              "9                             \"Weird Al\" Yankovic  ...  ['antiviral pop', 'comedy rock', 'comic', 'par...\n",
              "11                                           $NOT  ...  ['east coast hip hop', 'gangster rap', 'hardco...\n",
              "13                                    $uicideBoy$  ...  ['dark trap', 'new orleans rap', 'underground ...\n",
              "15     'In The Heights' Original Broadway Company  ...                         ['broadway', 'show tunes']\n",
              "...                                           ...  ...                                                ...\n",
              "27611                                         陳秀男  ...                             ['taiwan campus folk']\n",
              "27612                                         陳蘭麗  ...                             ['taiwan campus folk']\n",
              "27616                                         鳳飛飛  ...  ['c-pop', 'classic mandopop', 'vintage chinese...\n",
              "27617                                         黃品源  ...  ['c-pop', 'classic cantopop', 'classic mandopop']\n",
              "27620                                          黑豹  ...            ['chinese indie', 'chinese indie rock']\n",
              "\n",
              "[18091 rows x 16 columns]"
            ]
          },
          "metadata": {
            "tags": []
          },
          "execution_count": 67
        }
      ]
    },
    {
      "cell_type": "code",
      "metadata": {
        "id": "Rnjqq6Jd2tQt",
        "outputId": "5fe65192-84a2-4559-bdb0-3d35f14e727b",
        "colab": {
          "base_uri": "https://localhost:8080/",
          "height": 35
        }
      },
      "source": [
        "df.shape\n",
        "#9,530 songs were removed that didn't have genres entered"
      ],
      "execution_count": 68,
      "outputs": [
        {
          "output_type": "execute_result",
          "data": {
            "text/plain": [
              "(18091, 16)"
            ]
          },
          "metadata": {
            "tags": []
          },
          "execution_count": 68
        }
      ]
    },
    {
      "cell_type": "code",
      "metadata": {
        "id": "vnYbSOp4k8jH"
      },
      "source": [
        "#Drop Song Entries with Any Missing Values\n",
        "df = df.dropna(how='any')"
      ],
      "execution_count": 69,
      "outputs": []
    },
    {
      "cell_type": "code",
      "metadata": {
        "id": "HMqWAJ_m1ogp",
        "outputId": "f674ae5c-2515-4926-ba4e-752c6f911651",
        "colab": {
          "base_uri": "https://localhost:8080/",
          "height": 35
        }
      },
      "source": [
        "df.shape\n",
        "#no further songs were removed from dataframe with additional missing values"
      ],
      "execution_count": 70,
      "outputs": [
        {
          "output_type": "execute_result",
          "data": {
            "text/plain": [
              "(18091, 16)"
            ]
          },
          "metadata": {
            "tags": []
          },
          "execution_count": 70
        }
      ]
    },
    {
      "cell_type": "code",
      "metadata": {
        "id": "2vtYsZm2nVPQ",
        "outputId": "05172717-f246-4cb0-896f-0fc3ee352cdc",
        "colab": {
          "base_uri": "https://localhost:8080/",
          "height": 546
        }
      },
      "source": [
        "df.head()\n",
        "#dataframe post clean-up"
      ],
      "execution_count": 71,
      "outputs": [
        {
          "output_type": "execute_result",
          "data": {
            "text/html": [
              "<div>\n",
              "<style scoped>\n",
              "    .dataframe tbody tr th:only-of-type {\n",
              "        vertical-align: middle;\n",
              "    }\n",
              "\n",
              "    .dataframe tbody tr th {\n",
              "        vertical-align: top;\n",
              "    }\n",
              "\n",
              "    .dataframe thead th {\n",
              "        text-align: right;\n",
              "    }\n",
              "</style>\n",
              "<table border=\"1\" class=\"dataframe\">\n",
              "  <thead>\n",
              "    <tr style=\"text-align: right;\">\n",
              "      <th></th>\n",
              "      <th>artists</th>\n",
              "      <th>acousticness</th>\n",
              "      <th>danceability</th>\n",
              "      <th>duration_ms</th>\n",
              "      <th>energy</th>\n",
              "      <th>instrumentalness</th>\n",
              "      <th>liveness</th>\n",
              "      <th>loudness</th>\n",
              "      <th>speechiness</th>\n",
              "      <th>tempo</th>\n",
              "      <th>valence</th>\n",
              "      <th>popularity</th>\n",
              "      <th>key</th>\n",
              "      <th>mode</th>\n",
              "      <th>count</th>\n",
              "      <th>genres</th>\n",
              "    </tr>\n",
              "  </thead>\n",
              "  <tbody>\n",
              "    <tr>\n",
              "      <th>0</th>\n",
              "      <td>\"Cats\" 1981 Original London Cast</td>\n",
              "      <td>0.575083</td>\n",
              "      <td>0.442750</td>\n",
              "      <td>247260.000000</td>\n",
              "      <td>0.386336</td>\n",
              "      <td>0.022717</td>\n",
              "      <td>0.287708</td>\n",
              "      <td>-14.205417</td>\n",
              "      <td>0.180675</td>\n",
              "      <td>115.983500</td>\n",
              "      <td>0.334433</td>\n",
              "      <td>38.000000</td>\n",
              "      <td>5</td>\n",
              "      <td>1</td>\n",
              "      <td>12</td>\n",
              "      <td>['show tunes']</td>\n",
              "    </tr>\n",
              "    <tr>\n",
              "      <th>9</th>\n",
              "      <td>\"Weird Al\" Yankovic</td>\n",
              "      <td>0.176934</td>\n",
              "      <td>0.664788</td>\n",
              "      <td>218165.257576</td>\n",
              "      <td>0.685136</td>\n",
              "      <td>0.000046</td>\n",
              "      <td>0.162139</td>\n",
              "      <td>-9.877909</td>\n",
              "      <td>0.082392</td>\n",
              "      <td>132.495091</td>\n",
              "      <td>0.754409</td>\n",
              "      <td>33.681818</td>\n",
              "      <td>9</td>\n",
              "      <td>1</td>\n",
              "      <td>132</td>\n",
              "      <td>['antiviral pop', 'comedy rock', 'comic', 'par...</td>\n",
              "    </tr>\n",
              "    <tr>\n",
              "      <th>11</th>\n",
              "      <td>$NOT</td>\n",
              "      <td>0.547000</td>\n",
              "      <td>0.750125</td>\n",
              "      <td>152929.500000</td>\n",
              "      <td>0.519750</td>\n",
              "      <td>0.043137</td>\n",
              "      <td>0.213975</td>\n",
              "      <td>-8.878500</td>\n",
              "      <td>0.276725</td>\n",
              "      <td>114.229125</td>\n",
              "      <td>0.319500</td>\n",
              "      <td>64.625000</td>\n",
              "      <td>6</td>\n",
              "      <td>1</td>\n",
              "      <td>8</td>\n",
              "      <td>['east coast hip hop', 'gangster rap', 'hardco...</td>\n",
              "    </tr>\n",
              "    <tr>\n",
              "      <th>13</th>\n",
              "      <td>$uicideBoy$</td>\n",
              "      <td>0.128123</td>\n",
              "      <td>0.765246</td>\n",
              "      <td>147549.442623</td>\n",
              "      <td>0.641705</td>\n",
              "      <td>0.038454</td>\n",
              "      <td>0.201195</td>\n",
              "      <td>-6.626918</td>\n",
              "      <td>0.155917</td>\n",
              "      <td>119.804361</td>\n",
              "      <td>0.296096</td>\n",
              "      <td>61.647541</td>\n",
              "      <td>1</td>\n",
              "      <td>1</td>\n",
              "      <td>122</td>\n",
              "      <td>['dark trap', 'new orleans rap', 'underground ...</td>\n",
              "    </tr>\n",
              "    <tr>\n",
              "      <th>15</th>\n",
              "      <td>'In The Heights' Original Broadway Company</td>\n",
              "      <td>0.636588</td>\n",
              "      <td>0.541000</td>\n",
              "      <td>301908.294118</td>\n",
              "      <td>0.402282</td>\n",
              "      <td>0.000008</td>\n",
              "      <td>0.193824</td>\n",
              "      <td>-9.405882</td>\n",
              "      <td>0.150006</td>\n",
              "      <td>114.952529</td>\n",
              "      <td>0.407765</td>\n",
              "      <td>46.588235</td>\n",
              "      <td>7</td>\n",
              "      <td>1</td>\n",
              "      <td>17</td>\n",
              "      <td>['broadway', 'show tunes']</td>\n",
              "    </tr>\n",
              "  </tbody>\n",
              "</table>\n",
              "</div>"
            ],
            "text/plain": [
              "                                       artists  ...                                             genres\n",
              "0             \"Cats\" 1981 Original London Cast  ...                                     ['show tunes']\n",
              "9                          \"Weird Al\" Yankovic  ...  ['antiviral pop', 'comedy rock', 'comic', 'par...\n",
              "11                                        $NOT  ...  ['east coast hip hop', 'gangster rap', 'hardco...\n",
              "13                                 $uicideBoy$  ...  ['dark trap', 'new orleans rap', 'underground ...\n",
              "15  'In The Heights' Original Broadway Company  ...                         ['broadway', 'show tunes']\n",
              "\n",
              "[5 rows x 16 columns]"
            ]
          },
          "metadata": {
            "tags": []
          },
          "execution_count": 71
        }
      ]
    },
    {
      "cell_type": "code",
      "metadata": {
        "id": "q7TnS2gz5vlB",
        "outputId": "911f3d64-8395-4b6f-e09a-9cb1a42e83c6",
        "colab": {
          "base_uri": "https://localhost:8080/",
          "height": 126
        }
      },
      "source": [
        "#Remove Secondary Genres to Simplify Analysis\n",
        "df.genres = df.genres.str.split(',').str[0].str.strip()\n",
        "df.genres.head()"
      ],
      "execution_count": 72,
      "outputs": [
        {
          "output_type": "execute_result",
          "data": {
            "text/plain": [
              "0            ['show tunes']\n",
              "9          ['antiviral pop'\n",
              "11    ['east coast hip hop'\n",
              "13             ['dark trap'\n",
              "15              ['broadway'\n",
              "Name: genres, dtype: object"
            ]
          },
          "metadata": {
            "tags": []
          },
          "execution_count": 72
        }
      ]
    },
    {
      "cell_type": "code",
      "metadata": {
        "id": "hbwTtzXN68Db",
        "outputId": "cfd86c94-74a1-46e2-a174-55e13aa1fca5",
        "colab": {
          "base_uri": "https://localhost:8080/",
          "height": 686
        }
      },
      "source": [
        "df"
      ],
      "execution_count": 73,
      "outputs": [
        {
          "output_type": "execute_result",
          "data": {
            "text/html": [
              "<div>\n",
              "<style scoped>\n",
              "    .dataframe tbody tr th:only-of-type {\n",
              "        vertical-align: middle;\n",
              "    }\n",
              "\n",
              "    .dataframe tbody tr th {\n",
              "        vertical-align: top;\n",
              "    }\n",
              "\n",
              "    .dataframe thead th {\n",
              "        text-align: right;\n",
              "    }\n",
              "</style>\n",
              "<table border=\"1\" class=\"dataframe\">\n",
              "  <thead>\n",
              "    <tr style=\"text-align: right;\">\n",
              "      <th></th>\n",
              "      <th>artists</th>\n",
              "      <th>acousticness</th>\n",
              "      <th>danceability</th>\n",
              "      <th>duration_ms</th>\n",
              "      <th>energy</th>\n",
              "      <th>instrumentalness</th>\n",
              "      <th>liveness</th>\n",
              "      <th>loudness</th>\n",
              "      <th>speechiness</th>\n",
              "      <th>tempo</th>\n",
              "      <th>valence</th>\n",
              "      <th>popularity</th>\n",
              "      <th>key</th>\n",
              "      <th>mode</th>\n",
              "      <th>count</th>\n",
              "      <th>genres</th>\n",
              "    </tr>\n",
              "  </thead>\n",
              "  <tbody>\n",
              "    <tr>\n",
              "      <th>0</th>\n",
              "      <td>\"Cats\" 1981 Original London Cast</td>\n",
              "      <td>0.575083</td>\n",
              "      <td>0.442750</td>\n",
              "      <td>247260.000000</td>\n",
              "      <td>0.386336</td>\n",
              "      <td>0.022717</td>\n",
              "      <td>0.287708</td>\n",
              "      <td>-14.205417</td>\n",
              "      <td>0.180675</td>\n",
              "      <td>115.983500</td>\n",
              "      <td>0.334433</td>\n",
              "      <td>38.000000</td>\n",
              "      <td>5</td>\n",
              "      <td>1</td>\n",
              "      <td>12</td>\n",
              "      <td>['show tunes']</td>\n",
              "    </tr>\n",
              "    <tr>\n",
              "      <th>9</th>\n",
              "      <td>\"Weird Al\" Yankovic</td>\n",
              "      <td>0.176934</td>\n",
              "      <td>0.664788</td>\n",
              "      <td>218165.257576</td>\n",
              "      <td>0.685136</td>\n",
              "      <td>0.000046</td>\n",
              "      <td>0.162139</td>\n",
              "      <td>-9.877909</td>\n",
              "      <td>0.082392</td>\n",
              "      <td>132.495091</td>\n",
              "      <td>0.754409</td>\n",
              "      <td>33.681818</td>\n",
              "      <td>9</td>\n",
              "      <td>1</td>\n",
              "      <td>132</td>\n",
              "      <td>['antiviral pop'</td>\n",
              "    </tr>\n",
              "    <tr>\n",
              "      <th>11</th>\n",
              "      <td>$NOT</td>\n",
              "      <td>0.547000</td>\n",
              "      <td>0.750125</td>\n",
              "      <td>152929.500000</td>\n",
              "      <td>0.519750</td>\n",
              "      <td>0.043137</td>\n",
              "      <td>0.213975</td>\n",
              "      <td>-8.878500</td>\n",
              "      <td>0.276725</td>\n",
              "      <td>114.229125</td>\n",
              "      <td>0.319500</td>\n",
              "      <td>64.625000</td>\n",
              "      <td>6</td>\n",
              "      <td>1</td>\n",
              "      <td>8</td>\n",
              "      <td>['east coast hip hop'</td>\n",
              "    </tr>\n",
              "    <tr>\n",
              "      <th>13</th>\n",
              "      <td>$uicideBoy$</td>\n",
              "      <td>0.128123</td>\n",
              "      <td>0.765246</td>\n",
              "      <td>147549.442623</td>\n",
              "      <td>0.641705</td>\n",
              "      <td>0.038454</td>\n",
              "      <td>0.201195</td>\n",
              "      <td>-6.626918</td>\n",
              "      <td>0.155917</td>\n",
              "      <td>119.804361</td>\n",
              "      <td>0.296096</td>\n",
              "      <td>61.647541</td>\n",
              "      <td>1</td>\n",
              "      <td>1</td>\n",
              "      <td>122</td>\n",
              "      <td>['dark trap'</td>\n",
              "    </tr>\n",
              "    <tr>\n",
              "      <th>15</th>\n",
              "      <td>'In The Heights' Original Broadway Company</td>\n",
              "      <td>0.636588</td>\n",
              "      <td>0.541000</td>\n",
              "      <td>301908.294118</td>\n",
              "      <td>0.402282</td>\n",
              "      <td>0.000008</td>\n",
              "      <td>0.193824</td>\n",
              "      <td>-9.405882</td>\n",
              "      <td>0.150006</td>\n",
              "      <td>114.952529</td>\n",
              "      <td>0.407765</td>\n",
              "      <td>46.588235</td>\n",
              "      <td>7</td>\n",
              "      <td>1</td>\n",
              "      <td>17</td>\n",
              "      <td>['broadway'</td>\n",
              "    </tr>\n",
              "    <tr>\n",
              "      <th>...</th>\n",
              "      <td>...</td>\n",
              "      <td>...</td>\n",
              "      <td>...</td>\n",
              "      <td>...</td>\n",
              "      <td>...</td>\n",
              "      <td>...</td>\n",
              "      <td>...</td>\n",
              "      <td>...</td>\n",
              "      <td>...</td>\n",
              "      <td>...</td>\n",
              "      <td>...</td>\n",
              "      <td>...</td>\n",
              "      <td>...</td>\n",
              "      <td>...</td>\n",
              "      <td>...</td>\n",
              "      <td>...</td>\n",
              "    </tr>\n",
              "    <tr>\n",
              "      <th>27611</th>\n",
              "      <td>陳秀男</td>\n",
              "      <td>0.473500</td>\n",
              "      <td>0.553500</td>\n",
              "      <td>263286.500000</td>\n",
              "      <td>0.609000</td>\n",
              "      <td>0.000392</td>\n",
              "      <td>0.229000</td>\n",
              "      <td>-9.361000</td>\n",
              "      <td>0.035300</td>\n",
              "      <td>98.847500</td>\n",
              "      <td>0.535500</td>\n",
              "      <td>44.000000</td>\n",
              "      <td>7</td>\n",
              "      <td>1</td>\n",
              "      <td>2</td>\n",
              "      <td>['taiwan campus folk']</td>\n",
              "    </tr>\n",
              "    <tr>\n",
              "      <th>27612</th>\n",
              "      <td>陳蘭麗</td>\n",
              "      <td>0.502000</td>\n",
              "      <td>0.609000</td>\n",
              "      <td>152883.000000</td>\n",
              "      <td>0.833000</td>\n",
              "      <td>0.000000</td>\n",
              "      <td>0.134000</td>\n",
              "      <td>-6.261000</td>\n",
              "      <td>0.215000</td>\n",
              "      <td>154.596000</td>\n",
              "      <td>0.718000</td>\n",
              "      <td>34.000000</td>\n",
              "      <td>0</td>\n",
              "      <td>1</td>\n",
              "      <td>2</td>\n",
              "      <td>['taiwan campus folk']</td>\n",
              "    </tr>\n",
              "    <tr>\n",
              "      <th>27616</th>\n",
              "      <td>鳳飛飛</td>\n",
              "      <td>0.884000</td>\n",
              "      <td>0.358000</td>\n",
              "      <td>259387.000000</td>\n",
              "      <td>0.208000</td>\n",
              "      <td>0.000002</td>\n",
              "      <td>0.150000</td>\n",
              "      <td>-9.524000</td>\n",
              "      <td>0.033900</td>\n",
              "      <td>131.261000</td>\n",
              "      <td>0.278000</td>\n",
              "      <td>35.000000</td>\n",
              "      <td>10</td>\n",
              "      <td>1</td>\n",
              "      <td>2</td>\n",
              "      <td>['c-pop'</td>\n",
              "    </tr>\n",
              "    <tr>\n",
              "      <th>27617</th>\n",
              "      <td>黃品源</td>\n",
              "      <td>0.541000</td>\n",
              "      <td>0.578000</td>\n",
              "      <td>293840.000000</td>\n",
              "      <td>0.334000</td>\n",
              "      <td>0.000006</td>\n",
              "      <td>0.067500</td>\n",
              "      <td>-11.974000</td>\n",
              "      <td>0.026700</td>\n",
              "      <td>135.934000</td>\n",
              "      <td>0.243000</td>\n",
              "      <td>47.000000</td>\n",
              "      <td>9</td>\n",
              "      <td>0</td>\n",
              "      <td>2</td>\n",
              "      <td>['c-pop'</td>\n",
              "    </tr>\n",
              "    <tr>\n",
              "      <th>27620</th>\n",
              "      <td>黑豹</td>\n",
              "      <td>0.381000</td>\n",
              "      <td>0.353000</td>\n",
              "      <td>316160.000000</td>\n",
              "      <td>0.686000</td>\n",
              "      <td>0.000000</td>\n",
              "      <td>0.056800</td>\n",
              "      <td>-9.103000</td>\n",
              "      <td>0.039500</td>\n",
              "      <td>200.341000</td>\n",
              "      <td>0.352000</td>\n",
              "      <td>34.000000</td>\n",
              "      <td>11</td>\n",
              "      <td>1</td>\n",
              "      <td>2</td>\n",
              "      <td>['chinese indie'</td>\n",
              "    </tr>\n",
              "  </tbody>\n",
              "</table>\n",
              "<p>18091 rows × 16 columns</p>\n",
              "</div>"
            ],
            "text/plain": [
              "                                          artists  ...                  genres\n",
              "0                \"Cats\" 1981 Original London Cast  ...          ['show tunes']\n",
              "9                             \"Weird Al\" Yankovic  ...        ['antiviral pop'\n",
              "11                                           $NOT  ...   ['east coast hip hop'\n",
              "13                                    $uicideBoy$  ...            ['dark trap'\n",
              "15     'In The Heights' Original Broadway Company  ...             ['broadway'\n",
              "...                                           ...  ...                     ...\n",
              "27611                                         陳秀男  ...  ['taiwan campus folk']\n",
              "27612                                         陳蘭麗  ...  ['taiwan campus folk']\n",
              "27616                                         鳳飛飛  ...                ['c-pop'\n",
              "27617                                         黃品源  ...                ['c-pop'\n",
              "27620                                          黑豹  ...        ['chinese indie'\n",
              "\n",
              "[18091 rows x 16 columns]"
            ]
          },
          "metadata": {
            "tags": []
          },
          "execution_count": 73
        }
      ]
    },
    {
      "cell_type": "markdown",
      "metadata": {
        "id": "RNR9B8Go_XSi"
      },
      "source": [
        "# **Feature Selection**"
      ]
    },
    {
      "cell_type": "code",
      "metadata": {
        "id": "N1rt6bnW9cNn"
      },
      "source": [
        "#Define Independent Variable Columns\n",
        "X = df.iloc[:,0:15]"
      ],
      "execution_count": 74,
      "outputs": []
    },
    {
      "cell_type": "code",
      "metadata": {
        "id": "1T33kJuA_aDI"
      },
      "source": [
        "#Define the Target Column AKA Output Column\n",
        "y = df.iloc[:,-1]"
      ],
      "execution_count": 75,
      "outputs": []
    },
    {
      "cell_type": "code",
      "metadata": {
        "id": "zoi0fdhp_tG8",
        "outputId": "0a0feff3-2ce6-45b1-a9ef-f4a3b27aa279",
        "colab": {
          "base_uri": "https://localhost:8080/",
          "height": 1000
        }
      },
      "source": [
        "#Gather Correlations of Each Feature in the Data Set and Configure Correlation Map\n",
        "corrmat = df.corr()\n",
        "top_corr_features = corrmat.index\n",
        "plt.figure(figsize=(20,20))\n",
        "g=sns.heatmap(df[top_corr_features].corr(),annot=True,cmap=\"RdYlGn\")"
      ],
      "execution_count": 76,
      "outputs": [
        {
          "output_type": "display_data",
          "data": {
            "image/png": "[encoded data removed]",
            "text/plain": [
              "<Figure size 1440x1440 with 2 Axes>"
            ]
          },
          "metadata": {
            "tags": [],
            "needs_background": "light"
          }
        }
      ]
    },
    {
      "cell_type": "code",
      "metadata": {
        "id": "LMUTIl7tbp92",
        "outputId": "be15bec3-c719-48f1-8f34-45eddcd5974b",
        "colab": {
          "base_uri": "https://localhost:8080/",
          "height": 488
        }
      },
      "source": [
        "corrmat"
      ],
      "execution_count": 77,
      "outputs": [
        {
          "output_type": "execute_result",
          "data": {
            "text/html": [
              "<div>\n",
              "<style scoped>\n",
              "    .dataframe tbody tr th:only-of-type {\n",
              "        vertical-align: middle;\n",
              "    }\n",
              "\n",
              "    .dataframe tbody tr th {\n",
              "        vertical-align: top;\n",
              "    }\n",
              "\n",
              "    .dataframe thead th {\n",
              "        text-align: right;\n",
              "    }\n",
              "</style>\n",
              "<table border=\"1\" class=\"dataframe\">\n",
              "  <thead>\n",
              "    <tr style=\"text-align: right;\">\n",
              "      <th></th>\n",
              "      <th>acousticness</th>\n",
              "      <th>danceability</th>\n",
              "      <th>duration_ms</th>\n",
              "      <th>energy</th>\n",
              "      <th>instrumentalness</th>\n",
              "      <th>liveness</th>\n",
              "      <th>loudness</th>\n",
              "      <th>speechiness</th>\n",
              "      <th>tempo</th>\n",
              "      <th>valence</th>\n",
              "      <th>popularity</th>\n",
              "      <th>key</th>\n",
              "      <th>mode</th>\n",
              "      <th>count</th>\n",
              "    </tr>\n",
              "  </thead>\n",
              "  <tbody>\n",
              "    <tr>\n",
              "      <th>acousticness</th>\n",
              "      <td>1.000000e+00</td>\n",
              "      <td>-0.381977</td>\n",
              "      <td>2.246655e-07</td>\n",
              "      <td>-0.801522</td>\n",
              "      <td>0.338983</td>\n",
              "      <td>-0.032676</td>\n",
              "      <td>-0.658091</td>\n",
              "      <td>-0.078005</td>\n",
              "      <td>-0.260689</td>\n",
              "      <td>-0.257185</td>\n",
              "      <td>-0.518653</td>\n",
              "      <td>-0.043680</td>\n",
              "      <td>0.103018</td>\n",
              "      <td>0.069097</td>\n",
              "    </tr>\n",
              "    <tr>\n",
              "      <th>danceability</th>\n",
              "      <td>-3.819770e-01</td>\n",
              "      <td>1.000000</td>\n",
              "      <td>-1.319432e-01</td>\n",
              "      <td>0.354776</td>\n",
              "      <td>-0.386553</td>\n",
              "      <td>-0.112652</td>\n",
              "      <td>0.467806</td>\n",
              "      <td>0.264804</td>\n",
              "      <td>0.097313</td>\n",
              "      <td>0.613760</td>\n",
              "      <td>0.262123</td>\n",
              "      <td>0.034282</td>\n",
              "      <td>-0.106659</td>\n",
              "      <td>-0.044316</td>\n",
              "    </tr>\n",
              "    <tr>\n",
              "      <th>duration_ms</th>\n",
              "      <td>2.246655e-07</td>\n",
              "      <td>-0.131943</td>\n",
              "      <td>1.000000e+00</td>\n",
              "      <td>-0.057310</td>\n",
              "      <td>0.135900</td>\n",
              "      <td>0.006505</td>\n",
              "      <td>-0.129043</td>\n",
              "      <td>0.020465</td>\n",
              "      <td>-0.050042</td>\n",
              "      <td>-0.186602</td>\n",
              "      <td>-0.040383</td>\n",
              "      <td>-0.001826</td>\n",
              "      <td>-0.051362</td>\n",
              "      <td>-0.005630</td>\n",
              "    </tr>\n",
              "    <tr>\n",
              "      <th>energy</th>\n",
              "      <td>-8.015216e-01</td>\n",
              "      <td>0.354776</td>\n",
              "      <td>-5.730973e-02</td>\n",
              "      <td>1.000000</td>\n",
              "      <td>-0.349227</td>\n",
              "      <td>0.144959</td>\n",
              "      <td>0.799025</td>\n",
              "      <td>0.106811</td>\n",
              "      <td>0.325123</td>\n",
              "      <td>0.400460</td>\n",
              "      <td>0.399176</td>\n",
              "      <td>0.039755</td>\n",
              "      <td>-0.082497</td>\n",
              "      <td>-0.063521</td>\n",
              "    </tr>\n",
              "    <tr>\n",
              "      <th>instrumentalness</th>\n",
              "      <td>3.389829e-01</td>\n",
              "      <td>-0.386553</td>\n",
              "      <td>1.359003e-01</td>\n",
              "      <td>-0.349227</td>\n",
              "      <td>1.000000</td>\n",
              "      <td>-0.039330</td>\n",
              "      <td>-0.534474</td>\n",
              "      <td>-0.165316</td>\n",
              "      <td>-0.183188</td>\n",
              "      <td>-0.313275</td>\n",
              "      <td>-0.201045</td>\n",
              "      <td>-0.043456</td>\n",
              "      <td>-0.020101</td>\n",
              "      <td>0.020298</td>\n",
              "    </tr>\n",
              "    <tr>\n",
              "      <th>liveness</th>\n",
              "      <td>-3.267643e-02</td>\n",
              "      <td>-0.112652</td>\n",
              "      <td>6.504646e-03</td>\n",
              "      <td>0.144959</td>\n",
              "      <td>-0.039330</td>\n",
              "      <td>1.000000</td>\n",
              "      <td>0.056812</td>\n",
              "      <td>0.194738</td>\n",
              "      <td>-0.026412</td>\n",
              "      <td>-0.020080</td>\n",
              "      <td>-0.078072</td>\n",
              "      <td>-0.016257</td>\n",
              "      <td>0.020266</td>\n",
              "      <td>0.025985</td>\n",
              "    </tr>\n",
              "    <tr>\n",
              "      <th>loudness</th>\n",
              "      <td>-6.580910e-01</td>\n",
              "      <td>0.467806</td>\n",
              "      <td>-1.290427e-01</td>\n",
              "      <td>0.799025</td>\n",
              "      <td>-0.534474</td>\n",
              "      <td>0.056812</td>\n",
              "      <td>1.000000</td>\n",
              "      <td>0.085389</td>\n",
              "      <td>0.308009</td>\n",
              "      <td>0.389433</td>\n",
              "      <td>0.381738</td>\n",
              "      <td>0.034852</td>\n",
              "      <td>-0.058216</td>\n",
              "      <td>-0.050928</td>\n",
              "    </tr>\n",
              "    <tr>\n",
              "      <th>speechiness</th>\n",
              "      <td>-7.800457e-02</td>\n",
              "      <td>0.264804</td>\n",
              "      <td>2.046515e-02</td>\n",
              "      <td>0.106811</td>\n",
              "      <td>-0.165316</td>\n",
              "      <td>0.194738</td>\n",
              "      <td>0.085389</td>\n",
              "      <td>1.000000</td>\n",
              "      <td>0.003753</td>\n",
              "      <td>0.081273</td>\n",
              "      <td>0.027053</td>\n",
              "      <td>-0.000536</td>\n",
              "      <td>-0.075865</td>\n",
              "      <td>-0.019665</td>\n",
              "    </tr>\n",
              "    <tr>\n",
              "      <th>tempo</th>\n",
              "      <td>-2.606885e-01</td>\n",
              "      <td>0.097313</td>\n",
              "      <td>-5.004194e-02</td>\n",
              "      <td>0.325123</td>\n",
              "      <td>-0.183188</td>\n",
              "      <td>-0.026412</td>\n",
              "      <td>0.308009</td>\n",
              "      <td>0.003753</td>\n",
              "      <td>1.000000</td>\n",
              "      <td>0.206544</td>\n",
              "      <td>0.119223</td>\n",
              "      <td>0.014331</td>\n",
              "      <td>-0.005314</td>\n",
              "      <td>-0.004681</td>\n",
              "    </tr>\n",
              "    <tr>\n",
              "      <th>valence</th>\n",
              "      <td>-2.571849e-01</td>\n",
              "      <td>0.613760</td>\n",
              "      <td>-1.866023e-01</td>\n",
              "      <td>0.400460</td>\n",
              "      <td>-0.313275</td>\n",
              "      <td>-0.020080</td>\n",
              "      <td>0.389433</td>\n",
              "      <td>0.081273</td>\n",
              "      <td>0.206544</td>\n",
              "      <td>1.000000</td>\n",
              "      <td>-0.034029</td>\n",
              "      <td>0.043431</td>\n",
              "      <td>-0.014159</td>\n",
              "      <td>0.000812</td>\n",
              "    </tr>\n",
              "    <tr>\n",
              "      <th>popularity</th>\n",
              "      <td>-5.186526e-01</td>\n",
              "      <td>0.262123</td>\n",
              "      <td>-4.038336e-02</td>\n",
              "      <td>0.399176</td>\n",
              "      <td>-0.201045</td>\n",
              "      <td>-0.078072</td>\n",
              "      <td>0.381738</td>\n",
              "      <td>0.027053</td>\n",
              "      <td>0.119223</td>\n",
              "      <td>-0.034029</td>\n",
              "      <td>1.000000</td>\n",
              "      <td>0.013503</td>\n",
              "      <td>-0.118532</td>\n",
              "      <td>-0.128319</td>\n",
              "    </tr>\n",
              "    <tr>\n",
              "      <th>key</th>\n",
              "      <td>-4.368037e-02</td>\n",
              "      <td>0.034282</td>\n",
              "      <td>-1.825842e-03</td>\n",
              "      <td>0.039755</td>\n",
              "      <td>-0.043456</td>\n",
              "      <td>-0.016257</td>\n",
              "      <td>0.034852</td>\n",
              "      <td>-0.000536</td>\n",
              "      <td>0.014331</td>\n",
              "      <td>0.043431</td>\n",
              "      <td>0.013503</td>\n",
              "      <td>1.000000</td>\n",
              "      <td>-0.084348</td>\n",
              "      <td>-0.054267</td>\n",
              "    </tr>\n",
              "    <tr>\n",
              "      <th>mode</th>\n",
              "      <td>1.030175e-01</td>\n",
              "      <td>-0.106659</td>\n",
              "      <td>-5.136242e-02</td>\n",
              "      <td>-0.082497</td>\n",
              "      <td>-0.020101</td>\n",
              "      <td>0.020266</td>\n",
              "      <td>-0.058216</td>\n",
              "      <td>-0.075865</td>\n",
              "      <td>-0.005314</td>\n",
              "      <td>-0.014159</td>\n",
              "      <td>-0.118532</td>\n",
              "      <td>-0.084348</td>\n",
              "      <td>1.000000</td>\n",
              "      <td>0.085424</td>\n",
              "    </tr>\n",
              "    <tr>\n",
              "      <th>count</th>\n",
              "      <td>6.909695e-02</td>\n",
              "      <td>-0.044316</td>\n",
              "      <td>-5.630493e-03</td>\n",
              "      <td>-0.063521</td>\n",
              "      <td>0.020298</td>\n",
              "      <td>0.025985</td>\n",
              "      <td>-0.050928</td>\n",
              "      <td>-0.019665</td>\n",
              "      <td>-0.004681</td>\n",
              "      <td>0.000812</td>\n",
              "      <td>-0.128319</td>\n",
              "      <td>-0.054267</td>\n",
              "      <td>0.085424</td>\n",
              "      <td>1.000000</td>\n",
              "    </tr>\n",
              "  </tbody>\n",
              "</table>\n",
              "</div>"
            ],
            "text/plain": [
              "                  acousticness  danceability  ...      mode     count\n",
              "acousticness      1.000000e+00     -0.381977  ...  0.103018  0.069097\n",
              "danceability     -3.819770e-01      1.000000  ... -0.106659 -0.044316\n",
              "duration_ms       2.246655e-07     -0.131943  ... -0.051362 -0.005630\n",
              "energy           -8.015216e-01      0.354776  ... -0.082497 -0.063521\n",
              "instrumentalness  3.389829e-01     -0.386553  ... -0.020101  0.020298\n",
              "liveness         -3.267643e-02     -0.112652  ...  0.020266  0.025985\n",
              "loudness         -6.580910e-01      0.467806  ... -0.058216 -0.050928\n",
              "speechiness      -7.800457e-02      0.264804  ... -0.075865 -0.019665\n",
              "tempo            -2.606885e-01      0.097313  ... -0.005314 -0.004681\n",
              "valence          -2.571849e-01      0.613760  ... -0.014159  0.000812\n",
              "popularity       -5.186526e-01      0.262123  ... -0.118532 -0.128319\n",
              "key              -4.368037e-02      0.034282  ... -0.084348 -0.054267\n",
              "mode              1.030175e-01     -0.106659  ...  1.000000  0.085424\n",
              "count             6.909695e-02     -0.044316  ...  0.085424  1.000000\n",
              "\n",
              "[14 rows x 14 columns]"
            ]
          },
          "metadata": {
            "tags": []
          },
          "execution_count": 77
        }
      ]
    },
    {
      "cell_type": "code",
      "metadata": {
        "id": "xHYwd0Elafxl"
      },
      "source": [
        "#Correlation with output variable\n",
        "cor_target = abs(corrmat[\"genres\"])"
      ],
      "execution_count": null,
      "outputs": []
    },
    {
      "cell_type": "code",
      "metadata": {
        "id": "V8id3NJGbk9e"
      },
      "source": [
        "#Selecting highly correlated features\n",
        "relevant_features = cor_target[cor_target>0.5]\n",
        "relevant_features"
      ],
      "execution_count": null,
      "outputs": []
    },
    {
      "cell_type": "code",
      "metadata": {
        "id": "x9v7YoJvEArr"
      },
      "source": [
        "#Convert Float Values to Dummy Placeholder Values for Feature Selection\n",
        "df_dummy = pd.get_dummies(df, drop_first= False)"
      ],
      "execution_count": 46,
      "outputs": []
    },
    {
      "cell_type": "code",
      "metadata": {
        "id": "xdTyHFWoTjA4"
      },
      "source": [
        "#df_artist = df.artists\n",
        "#df_backup = df"
      ],
      "execution_count": 27,
      "outputs": []
    },
    {
      "cell_type": "code",
      "metadata": {
        "id": "l3Iq_GxIU93D"
      },
      "source": [
        "#df = df_backup"
      ],
      "execution_count": 38,
      "outputs": []
    },
    {
      "cell_type": "code",
      "metadata": {
        "id": "CdqjkryeGcSe"
      },
      "source": [
        "#Append Artists for Dummy Conversion\n",
        "idx = 0\n",
        "df_artists = df.artists\n",
        "df = df_dummy.insert(loc=idx, column='artists', value= df_artists)"
      ],
      "execution_count": 35,
      "outputs": []
    },
    {
      "cell_type": "code",
      "metadata": {
        "id": "mFr6gDqxBFm-"
      },
      "source": [
        "#apply SelectKBest class to extract top 3 best features\n",
        "bestfeatures = SelectKBest(score_func=chi2, k=3)\n",
        "fit = bestfeatures.fit(X,y)\n",
        "dfscores = pd.DataFrame(fit.scores_)\n",
        "dfcolumns = pd.DataFrame(X.columns)"
      ],
      "execution_count": null,
      "outputs": []
    },
    {
      "cell_type": "code",
      "metadata": {
        "id": "m14a1WH16wWc"
      },
      "source": [
        "#Artists, instrumentalness and energy top three, significant features for clusters in data\n",
        "#Also, will be important in predicting genre\n",
        "#After cleaning the data further, after the initial version of the code, the top three predictors have changed. "
      ],
      "execution_count": null,
      "outputs": []
    },
    {
      "cell_type": "markdown",
      "metadata": {
        "id": "LWsh6qyf_cGb"
      },
      "source": [
        "# **Predicting w/ K-Nearest Neighbors**"
      ]
    },
    {
      "cell_type": "code",
      "metadata": {
        "id": "_qujEY1KDOXr"
      },
      "source": [
        "#Import train_test_split function\n",
        "from sklearn.model_selection import train_test_split\n",
        "from sklearn.neighbors import KNeighborsClassifier"
      ],
      "execution_count": null,
      "outputs": []
    },
    {
      "cell_type": "code",
      "metadata": {
        "id": "0ObZ0UgmdD8J"
      },
      "source": [
        "# Split dataset into training set and test set\n",
        "#80% training and 20% test\n",
        "X_train, X_test, y_train, y_test = train_test_split(X, y, test_size=0.2)"
      ],
      "execution_count": 79,
      "outputs": []
    },
    {
      "cell_type": "code",
      "metadata": {
        "id": "XlxpllRnc9VH"
      },
      "source": [
        "#Create KNN Classifier\n",
        "knn = KNeighborsClassifier(n_neighbors=7)"
      ],
      "execution_count": 82,
      "outputs": []
    },
    {
      "cell_type": "code",
      "metadata": {
        "id": "xnFgDSX2egdq"
      },
      "source": [
        "X_train_2 = pd.get_dummies(X_train, drop_first= False)\n",
        "y_train_2 = pd.get_dummies(y_train, drop_first= False)\n",
        "X_test_2 = pd.get_dummies(X_test, drop_first= False)\n",
        "y_test = pd.get_dummies(y_test, drop_first= False)"
      ],
      "execution_count": 92,
      "outputs": []
    },
    {
      "cell_type": "code",
      "metadata": {
        "id": "UoG0k1pLecOE",
        "outputId": "72e89de5-d032-4ad2-8ae3-00defa15f6d9",
        "colab": {
          "base_uri": "https://localhost:8080/",
          "height": 72
        }
      },
      "source": [
        "#Train the model using the training sets\n",
        "knn.fit(X_train_2, y_train_2)"
      ],
      "execution_count": 93,
      "outputs": [
        {
          "output_type": "execute_result",
          "data": {
            "text/plain": [
              "KNeighborsClassifier(algorithm='auto', leaf_size=30, metric='minkowski',\n",
              "                     metric_params=None, n_jobs=None, n_neighbors=7, p=2,\n",
              "                     weights='uniform')"
            ]
          },
          "metadata": {
            "tags": []
          },
          "execution_count": 93
        }
      ]
    },
    {
      "cell_type": "code",
      "metadata": {
        "id": "nKJy49Y3fQc_"
      },
      "source": [
        "X_test_2 = pd.get_dummies(X_test, drop_first= False)"
      ],
      "execution_count": 94,
      "outputs": []
    },
    {
      "cell_type": "code",
      "metadata": {
        "id": "drvT9e64ee1t"
      },
      "source": [
        "#Predict the response for test dataset\n",
        "y_pred = knn.predict(X_test_2)"
      ],
      "execution_count": null,
      "outputs": []
    }
  ]
}